{
  "cells": [
    {
      "cell_type": "markdown",
      "metadata": {
        "id": "DVL7_bgmIAPR"
      },
      "source": [
        "# K-Nearest Neighbor Lab\n",
        "Read over the sklearn info on [nearest neighbor learners](https://scikit-learn.org/stable/modules/neighbors.html#nearest-neighbors-classification)\n",
        "\n",
        "\n"
      ]
    },
    {
      "cell_type": "code",
      "execution_count": null,
      "metadata": {
        "id": "6ZbYjZZZ_yLV"
      },
      "outputs": [],
      "source": [
        "from sklearn.neighbors import KNeighborsClassifier, KNeighborsRegressor\n",
        "import numpy as np\n",
        "import pandas as pd\n",
        "from scipy.io import arff\n",
        "import matplotlib.pyplot as plt\n",
        "from sklearn.model_selection import train_test_split\n",
        "import requests\n",
        "import io\n",
        "from sklearn.preprocessing import MinMaxScaler\n",
        "from sklearn.metrics import mean_absolute_error\n",
        "from sklearn.preprocessing import LabelEncoder"
      ]
    },
    {
      "cell_type": "markdown",
      "metadata": {
        "id": "GzpymRng2YrW"
      },
      "source": [
        "## 1 K-Nearest Neighbor (KNN) algorithm\n",
        "\n",
        "### 1.1 (15%) Basic KNN Classification\n",
        "\n",
        "Learn the [Glass data set](https://archive.ics.uci.edu/dataset/42/glass+identification) using [KNeighborsClassifier](https://scikit-learn.org/stable/modules/generated/sklearn.neighbors.KNeighborsClassifier.html#sklearn.neighbors.KNeighborsClassifier) with default parameters.\n",
        "- Randomly split your data into train/test.  Anytime we don't tell you specifics (such as what percentage is train vs test) choose your own reasonable values\n",
        "- Give typical train and test set accuracies after running with different random splits\n",
        "- Print the output probabilities for a test set (predict_proba)\n",
        "- Try it with different p values (Minkowskian exponent) and discuss any differences"
      ]
    },
    {
      "cell_type": "code",
      "source": [
        "pip install ucimlrepo"
      ],
      "metadata": {
        "colab": {
          "base_uri": "https://localhost:8080/"
        },
        "id": "7UtNhLV220vW",
        "outputId": "40099ab5-13be-43c0-e7c8-a3b6aa54ad96"
      },
      "execution_count": null,
      "outputs": [
        {
          "output_type": "stream",
          "name": "stdout",
          "text": [
            "Collecting ucimlrepo\n",
            "  Downloading ucimlrepo-0.0.7-py3-none-any.whl.metadata (5.5 kB)\n",
            "Requirement already satisfied: pandas>=1.0.0 in /usr/local/lib/python3.11/dist-packages (from ucimlrepo) (2.2.2)\n",
            "Requirement already satisfied: certifi>=2020.12.5 in /usr/local/lib/python3.11/dist-packages (from ucimlrepo) (2025.1.31)\n",
            "Requirement already satisfied: numpy>=1.23.2 in /usr/local/lib/python3.11/dist-packages (from pandas>=1.0.0->ucimlrepo) (2.0.2)\n",
            "Requirement already satisfied: python-dateutil>=2.8.2 in /usr/local/lib/python3.11/dist-packages (from pandas>=1.0.0->ucimlrepo) (2.8.2)\n",
            "Requirement already satisfied: pytz>=2020.1 in /usr/local/lib/python3.11/dist-packages (from pandas>=1.0.0->ucimlrepo) (2025.1)\n",
            "Requirement already satisfied: tzdata>=2022.7 in /usr/local/lib/python3.11/dist-packages (from pandas>=1.0.0->ucimlrepo) (2025.1)\n",
            "Requirement already satisfied: six>=1.5 in /usr/local/lib/python3.11/dist-packages (from python-dateutil>=2.8.2->pandas>=1.0.0->ucimlrepo) (1.17.0)\n",
            "Downloading ucimlrepo-0.0.7-py3-none-any.whl (8.0 kB)\n",
            "Installing collected packages: ucimlrepo\n",
            "Successfully installed ucimlrepo-0.0.7\n"
          ]
        }
      ]
    },
    {
      "cell_type": "code",
      "execution_count": null,
      "metadata": {
        "colab": {
          "base_uri": "https://localhost:8080/"
        },
        "id": "-Y4POPEN2YrW",
        "outputId": "82e7fdb0-e125-4c3f-ef39-de53d3606cbf"
      },
      "outputs": [
        {
          "output_type": "stream",
          "name": "stderr",
          "text": [
            "/usr/local/lib/python3.11/dist-packages/sklearn/neighbors/_classification.py:239: DataConversionWarning: A column-vector y was passed when a 1d array was expected. Please change the shape of y to (n_samples,), for example using ravel().\n",
            "  return self._fit(X, y)\n",
            "/usr/local/lib/python3.11/dist-packages/sklearn/neighbors/_classification.py:239: DataConversionWarning: A column-vector y was passed when a 1d array was expected. Please change the shape of y to (n_samples,), for example using ravel().\n",
            "  return self._fit(X, y)\n"
          ]
        },
        {
          "output_type": "stream",
          "name": "stdout",
          "text": [
            "\n",
            "Probability predictions for p=1 (first 10 samples):\n",
            "[[0.  0.2 0.  0.6 0.2 0. ]\n",
            " [0.  0.  0.  0.  0.2 0.8]\n",
            " [0.2 0.6 0.2 0.  0.  0. ]\n",
            " [0.  0.2 0.  0.6 0.2 0. ]\n",
            " [1.  0.  0.  0.  0.  0. ]\n",
            " [0.  1.  0.  0.  0.  0. ]\n",
            " [0.  0.8 0.2 0.  0.  0. ]\n",
            " [0.4 0.6 0.  0.  0.  0. ]\n",
            " [1.  0.  0.  0.  0.  0. ]\n",
            " [0.2 0.6 0.  0.  0.  0.2]]\n",
            "\n",
            "Probability predictions for p=1 (first 10 samples):\n",
            "[[0.8 0.  0.2 0.  0.  0. ]\n",
            " [0.  0.  0.  0.8 0.2 0. ]\n",
            " [0.6 0.4 0.  0.  0.  0. ]\n",
            " [0.  0.  0.  0.  0.  1. ]\n",
            " [1.  0.  0.  0.  0.  0. ]\n",
            " [0.8 0.  0.2 0.  0.  0. ]\n",
            " [0.  0.  0.  0.  0.  1. ]\n",
            " [0.8 0.2 0.  0.  0.  0. ]\n",
            " [0.  1.  0.  0.  0.  0. ]\n",
            " [0.6 0.4 0.  0.  0.  0. ]]\n"
          ]
        },
        {
          "output_type": "stream",
          "name": "stderr",
          "text": [
            "/usr/local/lib/python3.11/dist-packages/sklearn/neighbors/_classification.py:239: DataConversionWarning: A column-vector y was passed when a 1d array was expected. Please change the shape of y to (n_samples,), for example using ravel().\n",
            "  return self._fit(X, y)\n",
            "/usr/local/lib/python3.11/dist-packages/sklearn/neighbors/_classification.py:239: DataConversionWarning: A column-vector y was passed when a 1d array was expected. Please change the shape of y to (n_samples,), for example using ravel().\n",
            "  return self._fit(X, y)\n"
          ]
        },
        {
          "output_type": "stream",
          "name": "stdout",
          "text": [
            "\n",
            "Probability predictions for p=1 (first 10 samples):\n",
            "[[0.  0.  0.  0.  0.  1. ]\n",
            " [0.6 0.4 0.  0.  0.  0. ]\n",
            " [0.8 0.2 0.  0.  0.  0. ]\n",
            " [0.  0.  0.  0.  0.  1. ]\n",
            " [0.6 0.2 0.2 0.  0.  0. ]\n",
            " [0.8 0.  0.2 0.  0.  0. ]\n",
            " [0.4 0.2 0.4 0.  0.  0. ]\n",
            " [1.  0.  0.  0.  0.  0. ]\n",
            " [0.  0.6 0.  0.4 0.  0. ]\n",
            " [0.6 0.4 0.  0.  0.  0. ]]\n",
            "\n",
            "Probability predictions for p=1 (first 10 samples):\n",
            "[[0.2 0.  0.6 0.  0.  0.2]\n",
            " [1.  0.  0.  0.  0.  0. ]\n",
            " [1.  0.  0.  0.  0.  0. ]\n",
            " [0.4 0.6 0.  0.  0.  0. ]\n",
            " [0.8 0.  0.2 0.  0.  0. ]\n",
            " [1.  0.  0.  0.  0.  0. ]\n",
            " [0.6 0.4 0.  0.  0.  0. ]\n",
            " [0.2 0.8 0.  0.  0.  0. ]\n",
            " [0.  0.8 0.  0.2 0.  0. ]\n",
            " [0.  0.  0.  0.  0.  1. ]]\n"
          ]
        },
        {
          "output_type": "stream",
          "name": "stderr",
          "text": [
            "/usr/local/lib/python3.11/dist-packages/sklearn/neighbors/_classification.py:239: DataConversionWarning: A column-vector y was passed when a 1d array was expected. Please change the shape of y to (n_samples,), for example using ravel().\n",
            "  return self._fit(X, y)\n",
            "/usr/local/lib/python3.11/dist-packages/sklearn/neighbors/_classification.py:239: DataConversionWarning: A column-vector y was passed when a 1d array was expected. Please change the shape of y to (n_samples,), for example using ravel().\n",
            "  return self._fit(X, y)\n"
          ]
        },
        {
          "output_type": "stream",
          "name": "stdout",
          "text": [
            "\n",
            "Probability predictions for p=1 (first 10 samples):\n",
            "[[1.  0.  0.  0.  0.  0. ]\n",
            " [0.4 0.6 0.  0.  0.  0. ]\n",
            " [0.8 0.2 0.  0.  0.  0. ]\n",
            " [0.8 0.  0.2 0.  0.  0. ]\n",
            " [0.  1.  0.  0.  0.  0. ]\n",
            " [0.  0.4 0.  0.4 0.2 0. ]\n",
            " [0.8 0.2 0.  0.  0.  0. ]\n",
            " [0.  1.  0.  0.  0.  0. ]\n",
            " [0.  0.2 0.  0.8 0.  0. ]\n",
            " [0.4 0.  0.4 0.  0.  0.2]]\n",
            "\n",
            "Probability predictions for p=1 (first 10 samples):\n",
            "[[1.  0.  0.  0.  0.  0. ]\n",
            " [0.  1.  0.  0.  0.  0. ]\n",
            " [1.  0.  0.  0.  0.  0. ]\n",
            " [0.  1.  0.  0.  0.  0. ]\n",
            " [0.  0.2 0.  0.6 0.2 0. ]\n",
            " [0.  0.6 0.  0.4 0.  0. ]\n",
            " [1.  0.  0.  0.  0.  0. ]\n",
            " [0.  0.6 0.  0.4 0.  0. ]\n",
            " [0.  0.  0.  0.  0.  1. ]\n",
            " [0.  0.  0.  0.  0.  1. ]]\n",
            "\n",
            "Probability predictions for p=1 (first 10 samples):\n",
            "[[1.  0.  0.  0.  0.  0. ]\n",
            " [0.  0.  0.  0.  0.  1. ]\n",
            " [0.  0.  0.  0.  0.  1. ]\n",
            " [0.  0.  0.  1.  0.  0. ]\n",
            " [0.  1.  0.  0.  0.  0. ]\n",
            " [0.  1.  0.  0.  0.  0. ]\n",
            " [0.4 0.  0.6 0.  0.  0. ]\n",
            " [0.  1.  0.  0.  0.  0. ]\n",
            " [0.4 0.6 0.  0.  0.  0. ]\n",
            " [0.  0.  0.  0.  0.  1. ]]\n"
          ]
        },
        {
          "output_type": "stream",
          "name": "stderr",
          "text": [
            "/usr/local/lib/python3.11/dist-packages/sklearn/neighbors/_classification.py:239: DataConversionWarning: A column-vector y was passed when a 1d array was expected. Please change the shape of y to (n_samples,), for example using ravel().\n",
            "  return self._fit(X, y)\n",
            "/usr/local/lib/python3.11/dist-packages/sklearn/neighbors/_classification.py:239: DataConversionWarning: A column-vector y was passed when a 1d array was expected. Please change the shape of y to (n_samples,), for example using ravel().\n",
            "  return self._fit(X, y)\n"
          ]
        },
        {
          "output_type": "stream",
          "name": "stdout",
          "text": [
            "\n",
            "Probability predictions for p=1 (first 10 samples):\n",
            "[[0.  1.  0.  0.  0.  0. ]\n",
            " [0.4 0.2 0.4 0.  0.  0. ]\n",
            " [0.  1.  0.  0.  0.  0. ]\n",
            " [0.2 0.6 0.2 0.  0.  0. ]\n",
            " [1.  0.  0.  0.  0.  0. ]\n",
            " [0.2 0.8 0.  0.  0.  0. ]\n",
            " [0.  0.  0.  0.4 0.  0.6]\n",
            " [0.4 0.2 0.4 0.  0.  0. ]\n",
            " [1.  0.  0.  0.  0.  0. ]\n",
            " [0.8 0.  0.2 0.  0.  0. ]]\n",
            "\n",
            "Probability predictions for p=1 (first 10 samples):\n",
            "[[0.6 0.  0.4 0.  0.  0. ]\n",
            " [0.8 0.2 0.  0.  0.  0. ]\n",
            " [0.  0.  0.  1.  0.  0. ]\n",
            " [0.8 0.  0.2 0.  0.  0. ]\n",
            " [0.8 0.2 0.  0.  0.  0. ]\n",
            " [0.  0.4 0.  0.6 0.  0. ]\n",
            " [0.  0.  0.  0.  0.  1. ]\n",
            " [0.6 0.4 0.  0.  0.  0. ]\n",
            " [0.  0.4 0.  0.6 0.  0. ]\n",
            " [1.  0.  0.  0.  0.  0. ]]\n"
          ]
        },
        {
          "output_type": "stream",
          "name": "stderr",
          "text": [
            "/usr/local/lib/python3.11/dist-packages/sklearn/neighbors/_classification.py:239: DataConversionWarning: A column-vector y was passed when a 1d array was expected. Please change the shape of y to (n_samples,), for example using ravel().\n",
            "  return self._fit(X, y)\n",
            "/usr/local/lib/python3.11/dist-packages/sklearn/neighbors/_classification.py:239: DataConversionWarning: A column-vector y was passed when a 1d array was expected. Please change the shape of y to (n_samples,), for example using ravel().\n",
            "  return self._fit(X, y)\n"
          ]
        },
        {
          "output_type": "stream",
          "name": "stdout",
          "text": [
            "\n",
            "Probability predictions for p=1 (first 10 samples):\n",
            "[[0.2 0.2 0.  0.  0.6 0. ]\n",
            " [0.  0.  0.  0.  0.  1. ]\n",
            " [0.6 0.2 0.2 0.  0.  0. ]\n",
            " [0.6 0.4 0.  0.  0.  0. ]\n",
            " [0.8 0.2 0.  0.  0.  0. ]\n",
            " [0.  1.  0.  0.  0.  0. ]\n",
            " [1.  0.  0.  0.  0.  0. ]\n",
            " [0.  0.6 0.  0.4 0.  0. ]\n",
            " [1.  0.  0.  0.  0.  0. ]\n",
            " [0.8 0.  0.2 0.  0.  0. ]]\n",
            "Average training accuracy for p=1: 0.7801169590643277\n",
            "Average test accuracy for p=1: 0.7069767441860465\n",
            "\n",
            "\n",
            "Probability predictions for p=2 (first 10 samples):\n",
            "[[0.8 0.2 0.  0.  0.  0. ]\n",
            " [0.8 0.2 0.  0.  0.  0. ]\n",
            " [0.6 0.2 0.2 0.  0.  0. ]\n",
            " [1.  0.  0.  0.  0.  0. ]\n",
            " [1.  0.  0.  0.  0.  0. ]\n",
            " [0.4 0.2 0.4 0.  0.  0. ]\n",
            " [0.  0.  0.  0.  0.  1. ]\n",
            " [0.6 0.  0.4 0.  0.  0. ]\n",
            " [1.  0.  0.  0.  0.  0. ]\n",
            " [0.6 0.4 0.  0.  0.  0. ]]\n",
            "\n",
            "Probability predictions for p=2 (first 10 samples):\n",
            "[[0.  1.  0.  0.  0.  0. ]\n",
            " [1.  0.  0.  0.  0.  0. ]\n",
            " [0.4 0.6 0.  0.  0.  0. ]\n",
            " [0.4 0.6 0.  0.  0.  0. ]\n",
            " [1.  0.  0.  0.  0.  0. ]\n",
            " [0.6 0.  0.4 0.  0.  0. ]\n",
            " [0.  0.  0.  0.  0.  1. ]\n",
            " [0.4 0.2 0.4 0.  0.  0. ]\n",
            " [0.2 0.6 0.2 0.  0.  0. ]\n",
            " [0.  1.  0.  0.  0.  0. ]]\n"
          ]
        },
        {
          "output_type": "stream",
          "name": "stderr",
          "text": [
            "/usr/local/lib/python3.11/dist-packages/sklearn/neighbors/_classification.py:239: DataConversionWarning: A column-vector y was passed when a 1d array was expected. Please change the shape of y to (n_samples,), for example using ravel().\n",
            "  return self._fit(X, y)\n",
            "/usr/local/lib/python3.11/dist-packages/sklearn/neighbors/_classification.py:239: DataConversionWarning: A column-vector y was passed when a 1d array was expected. Please change the shape of y to (n_samples,), for example using ravel().\n",
            "  return self._fit(X, y)\n",
            "/usr/local/lib/python3.11/dist-packages/sklearn/neighbors/_classification.py:239: DataConversionWarning: A column-vector y was passed when a 1d array was expected. Please change the shape of y to (n_samples,), for example using ravel().\n",
            "  return self._fit(X, y)\n"
          ]
        },
        {
          "output_type": "stream",
          "name": "stdout",
          "text": [
            "\n",
            "Probability predictions for p=2 (first 10 samples):\n",
            "[[0.4 0.2 0.4 0.  0.  0. ]\n",
            " [0.  0.  0.  0.  0.  1. ]\n",
            " [1.  0.  0.  0.  0.  0. ]\n",
            " [0.6 0.4 0.  0.  0.  0. ]\n",
            " [0.6 0.4 0.  0.  0.  0. ]\n",
            " [1.  0.  0.  0.  0.  0. ]\n",
            " [0.4 0.2 0.4 0.  0.  0. ]\n",
            " [0.6 0.4 0.  0.  0.  0. ]\n",
            " [0.  0.8 0.  0.2 0.  0. ]\n",
            " [0.8 0.  0.2 0.  0.  0. ]]\n",
            "\n",
            "Probability predictions for p=2 (first 10 samples):\n",
            "[[0.6 0.  0.4 0.  0.  0. ]\n",
            " [0.4 0.  0.4 0.  0.  0.2]\n",
            " [1.  0.  0.  0.  0.  0. ]\n",
            " [0.6 0.  0.4 0.  0.  0. ]\n",
            " [0.6 0.2 0.2 0.  0.  0. ]\n",
            " [0.4 0.  0.4 0.  0.  0.2]\n",
            " [0.  0.  0.  0.4 0.  0.6]\n",
            " [0.4 0.6 0.  0.  0.  0. ]\n",
            " [0.4 0.2 0.  0.  0.4 0. ]\n",
            " [0.  0.2 0.6 0.  0.  0.2]]\n"
          ]
        },
        {
          "output_type": "stream",
          "name": "stderr",
          "text": [
            "/usr/local/lib/python3.11/dist-packages/sklearn/neighbors/_classification.py:239: DataConversionWarning: A column-vector y was passed when a 1d array was expected. Please change the shape of y to (n_samples,), for example using ravel().\n",
            "  return self._fit(X, y)\n",
            "/usr/local/lib/python3.11/dist-packages/sklearn/neighbors/_classification.py:239: DataConversionWarning: A column-vector y was passed when a 1d array was expected. Please change the shape of y to (n_samples,), for example using ravel().\n",
            "  return self._fit(X, y)\n"
          ]
        },
        {
          "output_type": "stream",
          "name": "stdout",
          "text": [
            "\n",
            "Probability predictions for p=2 (first 10 samples):\n",
            "[[0.8 0.2 0.  0.  0.  0. ]\n",
            " [0.  1.  0.  0.  0.  0. ]\n",
            " [0.  1.  0.  0.  0.  0. ]\n",
            " [0.  0.  0.  0.  0.  1. ]\n",
            " [0.6 0.4 0.  0.  0.  0. ]\n",
            " [0.4 0.6 0.  0.  0.  0. ]\n",
            " [0.8 0.2 0.  0.  0.  0. ]\n",
            " [0.8 0.  0.2 0.  0.  0. ]\n",
            " [0.  1.  0.  0.  0.  0. ]\n",
            " [0.  0.  0.  0.  0.  1. ]]\n"
          ]
        },
        {
          "output_type": "stream",
          "name": "stderr",
          "text": [
            "/usr/local/lib/python3.11/dist-packages/sklearn/neighbors/_classification.py:239: DataConversionWarning: A column-vector y was passed when a 1d array was expected. Please change the shape of y to (n_samples,), for example using ravel().\n",
            "  return self._fit(X, y)\n"
          ]
        },
        {
          "output_type": "stream",
          "name": "stdout",
          "text": [
            "\n",
            "Probability predictions for p=2 (first 10 samples):\n",
            "[[0.  0.  0.  0.  0.  1. ]\n",
            " [0.2 0.8 0.  0.  0.  0. ]\n",
            " [0.  0.  0.  0.  0.  1. ]\n",
            " [0.4 0.4 0.2 0.  0.  0. ]\n",
            " [0.  1.  0.  0.  0.  0. ]\n",
            " [0.  0.4 0.  0.6 0.  0. ]\n",
            " [0.  0.  0.  0.  0.  1. ]\n",
            " [0.6 0.2 0.2 0.  0.  0. ]\n",
            " [1.  0.  0.  0.  0.  0. ]\n",
            " [1.  0.  0.  0.  0.  0. ]]\n",
            "\n",
            "Probability predictions for p=2 (first 10 samples):\n",
            "[[0.6 0.2 0.  0.  0.  0.2]\n",
            " [0.2 0.4 0.4 0.  0.  0. ]\n",
            " [0.8 0.  0.2 0.  0.  0. ]\n",
            " [0.  1.  0.  0.  0.  0. ]\n",
            " [0.2 0.8 0.  0.  0.  0. ]\n",
            " [1.  0.  0.  0.  0.  0. ]\n",
            " [0.8 0.  0.2 0.  0.  0. ]\n",
            " [1.  0.  0.  0.  0.  0. ]\n",
            " [0.  0.4 0.  0.4 0.2 0. ]\n",
            " [0.8 0.2 0.  0.  0.  0. ]]\n"
          ]
        },
        {
          "output_type": "stream",
          "name": "stderr",
          "text": [
            "/usr/local/lib/python3.11/dist-packages/sklearn/neighbors/_classification.py:239: DataConversionWarning: A column-vector y was passed when a 1d array was expected. Please change the shape of y to (n_samples,), for example using ravel().\n",
            "  return self._fit(X, y)\n",
            "/usr/local/lib/python3.11/dist-packages/sklearn/neighbors/_classification.py:239: DataConversionWarning: A column-vector y was passed when a 1d array was expected. Please change the shape of y to (n_samples,), for example using ravel().\n",
            "  return self._fit(X, y)\n"
          ]
        },
        {
          "output_type": "stream",
          "name": "stdout",
          "text": [
            "\n",
            "Probability predictions for p=2 (first 10 samples):\n",
            "[[0.8 0.2 0.  0.  0.  0. ]\n",
            " [0.8 0.2 0.  0.  0.  0. ]\n",
            " [0.  0.4 0.  0.  0.4 0.2]\n",
            " [0.  0.2 0.  0.8 0.  0. ]\n",
            " [1.  0.  0.  0.  0.  0. ]\n",
            " [0.4 0.6 0.  0.  0.  0. ]\n",
            " [0.2 0.8 0.  0.  0.  0. ]\n",
            " [0.  1.  0.  0.  0.  0. ]\n",
            " [0.8 0.2 0.  0.  0.  0. ]\n",
            " [0.6 0.2 0.2 0.  0.  0. ]]\n",
            "\n",
            "Probability predictions for p=2 (first 10 samples):\n",
            "[[0.6 0.2 0.2 0.  0.  0. ]\n",
            " [1.  0.  0.  0.  0.  0. ]\n",
            " [0.4 0.4 0.  0.  0.  0.2]\n",
            " [0.  0.  0.  0.  0.2 0.8]\n",
            " [0.2 0.8 0.  0.  0.  0. ]\n",
            " [0.2 0.4 0.4 0.  0.  0. ]\n",
            " [0.4 0.6 0.  0.  0.  0. ]\n",
            " [0.2 0.8 0.  0.  0.  0. ]\n",
            " [0.4 0.2 0.4 0.  0.  0. ]\n",
            " [0.  0.  0.  0.  0.  1. ]]\n"
          ]
        },
        {
          "output_type": "stream",
          "name": "stderr",
          "text": [
            "/usr/local/lib/python3.11/dist-packages/sklearn/neighbors/_classification.py:239: DataConversionWarning: A column-vector y was passed when a 1d array was expected. Please change the shape of y to (n_samples,), for example using ravel().\n",
            "  return self._fit(X, y)\n",
            "/usr/local/lib/python3.11/dist-packages/sklearn/neighbors/_classification.py:239: DataConversionWarning: A column-vector y was passed when a 1d array was expected. Please change the shape of y to (n_samples,), for example using ravel().\n",
            "  return self._fit(X, y)\n"
          ]
        },
        {
          "output_type": "stream",
          "name": "stdout",
          "text": [
            "\n",
            "Probability predictions for p=2 (first 10 samples):\n",
            "[[0.  0.4 0.  0.  0.6 0. ]\n",
            " [0.8 0.  0.2 0.  0.  0. ]\n",
            " [1.  0.  0.  0.  0.  0. ]\n",
            " [0.  0.6 0.  0.  0.4 0. ]\n",
            " [0.  1.  0.  0.  0.  0. ]\n",
            " [1.  0.  0.  0.  0.  0. ]\n",
            " [0.2 0.6 0.2 0.  0.  0. ]\n",
            " [0.  0.  0.  0.4 0.  0.6]\n",
            " [0.6 0.  0.4 0.  0.  0. ]\n",
            " [0.2 0.8 0.  0.  0.  0. ]]\n",
            "Average training accuracy for p=2: 0.7573099415204678\n",
            "Average test accuracy for p=2: 0.6348837209302327\n",
            "\n"
          ]
        }
      ],
      "source": [
        "from ucimlrepo import fetch_ucirepo\n",
        "glass_identification = fetch_ucirepo(id=42)\n",
        "\n",
        "X = glass_identification.data.features\n",
        "y = glass_identification.data.targets\n",
        "\n",
        "p_values = [1,2] # 1 for manhattan_distance, 2 for euclidean_distance\n",
        "num_of_runs = 10\n",
        "\n",
        "for p in p_values:\n",
        "  results = []\n",
        "  for run in range(num_of_runs):\n",
        "    knn = KNeighborsClassifier(p=p)\n",
        "    X_train, X_test, y_train, y_test = train_test_split(X, y, test_size=0.2)\n",
        "    knn.fit(X_train, y_train)\n",
        "\n",
        "    train_acc = knn.score(X_train, y_train)\n",
        "    test_acc = knn.score(X_test, y_test)\n",
        "\n",
        "    y_proba = knn.predict_proba(X_test)\n",
        "    print(f\"\\nProbability predictions for p={p} (first 10 samples):\")\n",
        "    print(np.round(y_proba[:10], 4))\n",
        "\n",
        "    results.append([train_acc, test_acc])\n",
        "\n",
        "  all_train_acc = []\n",
        "  for result in results:\n",
        "    all_train_acc.append(result[0])\n",
        "\n",
        "  all_test_acc = []\n",
        "  for result in results:\n",
        "    all_test_acc.append(result[1])\n",
        "\n",
        "  avg_train_acc = sum(all_train_acc) / len(all_train_acc)\n",
        "  avg_test_acc = sum(all_test_acc) / len(all_test_acc)\n",
        "\n",
        "\n",
        "\n",
        "  print(f\"Average training accuracy for p={p}: {avg_train_acc}\")\n",
        "  print(f\"Average test accuracy for p={p}: {avg_test_acc}\\n\")"
      ]
    },
    {
      "cell_type": "markdown",
      "metadata": {
        "id": "iHVXAjRg2YrW"
      },
      "source": [
        "#### Discussion\n",
        "What were your accuracies or output probabilities and how did different hyperparameter values affect the outcome? Discuss the differences you see."
      ]
    },
    {
      "cell_type": "markdown",
      "metadata": {
        "id": "MQ0BwKrY2YrW"
      },
      "source": [
        "For Manhattan (`p=1`), there was a 78% training accuracy and a 70% test accuracy. For Euclidean (`p=2`), there was a 76% training accuracy and a 63% test accuracy, on average. This shows me that Manhattan is a little bit more accurate. Since there is so a pretty significant different between training and test accuracies for both manhattan and euclidean, that shows me that there could be some slight overfitting? Maybe we can play around with the other hyperparameters, which is what it looks like we will be doing in the other code blocks below..."
      ]
    },
    {
      "cell_type": "markdown",
      "metadata": {
        "id": "9vWiTdlbR2Xh"
      },
      "source": [
        "## 2 KNN Classification with normalization and distance weighting\n",
        "\n",
        "Use the [magic telescope](https://axon.cs.byu.edu/data/uci_class/MagicTelescope.arff) dataset\n",
        "\n",
        "### 2.1 (5%) - Without Normalization or Distance Weighting\n",
        "- Do random 80/20 train/test splits each time\n",
        "- Run with k=3 and *without* distance weighting and *without* normalization\n",
        "- Show train and test set accuracy"
      ]
    },
    {
      "cell_type": "code",
      "execution_count": null,
      "metadata": {
        "id": "4SSoasDQSKXb",
        "colab": {
          "base_uri": "https://localhost:8080/"
        },
        "outputId": "e94efa4a-94d4-4b64-f7be-7bc0008bc997"
      },
      "outputs": [
        {
          "output_type": "stream",
          "name": "stdout",
          "text": [
            "\n",
            "Probability predictions for (first 5 samples):\n",
            "[[1.     0.    ]\n",
            " [1.     0.    ]\n",
            " [0.6667 0.3333]\n",
            " [0.3333 0.6667]\n",
            " [1.     0.    ]]\n",
            "\n",
            "Probability predictions for (first 5 samples):\n",
            "[[1.     0.    ]\n",
            " [1.     0.    ]\n",
            " [0.3333 0.6667]\n",
            " [0.6667 0.3333]\n",
            " [1.     0.    ]]\n",
            "\n",
            "Probability predictions for (first 5 samples):\n",
            "[[0.3333 0.6667]\n",
            " [1.     0.    ]\n",
            " [0.6667 0.3333]\n",
            " [0.6667 0.3333]\n",
            " [1.     0.    ]]\n",
            "\n",
            "Probability predictions for (first 5 samples):\n",
            "[[1.     0.    ]\n",
            " [0.6667 0.3333]\n",
            " [0.6667 0.3333]\n",
            " [1.     0.    ]\n",
            " [0.     1.    ]]\n",
            "\n",
            "Probability predictions for (first 5 samples):\n",
            "[[0.6667 0.3333]\n",
            " [0.     1.    ]\n",
            " [1.     0.    ]\n",
            " [1.     0.    ]\n",
            " [1.     0.    ]]\n",
            "\n",
            "Probability predictions for (first 5 samples):\n",
            "[[1.     0.    ]\n",
            " [0.3333 0.6667]\n",
            " [1.     0.    ]\n",
            " [1.     0.    ]\n",
            " [0.6667 0.3333]]\n",
            "\n",
            "Probability predictions for (first 5 samples):\n",
            "[[0.6667 0.3333]\n",
            " [1.     0.    ]\n",
            " [0.6667 0.3333]\n",
            " [0.6667 0.3333]\n",
            " [0.6667 0.3333]]\n",
            "\n",
            "Probability predictions for (first 5 samples):\n",
            "[[0.6667 0.3333]\n",
            " [1.     0.    ]\n",
            " [1.     0.    ]\n",
            " [0.6667 0.3333]\n",
            " [0.3333 0.6667]]\n",
            "\n",
            "Probability predictions for (first 5 samples):\n",
            "[[0. 1.]\n",
            " [0. 1.]\n",
            " [1. 0.]\n",
            " [1. 0.]\n",
            " [1. 0.]]\n",
            "\n",
            "Probability predictions for (first 5 samples):\n",
            "[[1.     0.    ]\n",
            " [1.     0.    ]\n",
            " [1.     0.    ]\n",
            " [1.     0.    ]\n",
            " [0.3333 0.6667]]\n",
            "Average training accuracy without distance weighting and without normalization: 0.8862841745531019\n",
            "Average test accuracy without distance weighting and without normalization: 0.7981598317560464\n"
          ]
        }
      ],
      "source": [
        "# Learn magic telescope data\n",
        "response = requests.get('https://axon.cs.byu.edu/data/uci_class/MagicTelescope.arff')\n",
        "\n",
        "arff_data, meta_data = arff.loadarff(io.StringIO(response.text))\n",
        "df = pd.DataFrame(arff_data)\n",
        "\n",
        "df.columns = [col.strip(\":\") for col in df.columns]\n",
        "df['class'] = df['class'].str.decode('utf-8')\n",
        "\n",
        "X = df.drop(columns=['class'])\n",
        "y = df['class']\n",
        "\n",
        "knn = KNeighborsClassifier(n_neighbors=3, weights='uniform')\n",
        "\n",
        "num_of_runs = 10\n",
        "results = []\n",
        "\n",
        "for run in range(num_of_runs):\n",
        "  X_train, X_test, y_train, y_test = train_test_split(X, y, test_size=0.2)\n",
        "\n",
        "  knn.fit(X_train, y_train)\n",
        "\n",
        "  train_acc = knn.score(X_train, y_train)\n",
        "  test_acc = knn.score(X_test, y_test)\n",
        "\n",
        "  results.append([train_acc, test_acc])\n",
        "\n",
        "  y_probabilities = knn.predict_proba(X_test)\n",
        "  print(f\"\\nProbability predictions for (first 5 samples):\")\n",
        "  print(np.round(y_probabilities[:5], 4))\n",
        "\n",
        "\n",
        "all_train_acc = []\n",
        "for result in results:\n",
        "  all_train_acc.append(result[0])\n",
        "\n",
        "all_test_acc = []\n",
        "for result in results:\n",
        "  all_test_acc.append(result[1])\n",
        "\n",
        "avg_train_acc = sum(all_train_acc) / len(all_train_acc)\n",
        "avg_test_acc = sum(all_test_acc) / len(all_test_acc)\n",
        "\n",
        "print(f'Average training accuracy without distance weighting and without normalization: {avg_train_acc}')\n",
        "print(f'Average test accuracy without distance weighting and without normalization: {avg_test_acc}')\n"
      ]
    },
    {
      "cell_type": "markdown",
      "metadata": {
        "id": "T6Pqz4s02YrX"
      },
      "source": [
        "#### Discussion\n",
        "What did you observe in your results?"
      ]
    },
    {
      "cell_type": "markdown",
      "metadata": {
        "id": "t3C8Pzvq2YrX"
      },
      "source": [
        "With `k=3`, no normalization, no distance weighting, on average, the training accuracy was 89% and the test accuracy was 80%."
      ]
    },
    {
      "cell_type": "markdown",
      "metadata": {
        "id": "RMYJcfcO2YrX"
      },
      "source": [
        "### 2.2 (10%) With Normalization\n",
        "- Try it with k=3 without distance weighting but *with* normalization of input features.  You may use any reasonable normalization approach (e.g. standard min-max normalization between 0-1, z-transform, etc.)"
      ]
    },
    {
      "cell_type": "code",
      "execution_count": null,
      "metadata": {
        "colab": {
          "base_uri": "https://localhost:8080/"
        },
        "id": "tS7xcVFm2YrX",
        "outputId": "b394c769-0444-4a6a-86bb-8a22ee7736e1"
      },
      "outputs": [
        {
          "output_type": "stream",
          "name": "stdout",
          "text": [
            "\n",
            "Probability predictions for (first 5 samples):\n",
            "[[0.     1.    ]\n",
            " [0.6667 0.3333]\n",
            " [0.     1.    ]\n",
            " [1.     0.    ]\n",
            " [1.     0.    ]]\n",
            "\n",
            "Probability predictions for (first 5 samples):\n",
            "[[1.     0.    ]\n",
            " [1.     0.    ]\n",
            " [0.3333 0.6667]\n",
            " [1.     0.    ]\n",
            " [1.     0.    ]]\n",
            "\n",
            "Probability predictions for (first 5 samples):\n",
            "[[1. 0.]\n",
            " [1. 0.]\n",
            " [1. 0.]\n",
            " [1. 0.]\n",
            " [0. 1.]]\n",
            "\n",
            "Probability predictions for (first 5 samples):\n",
            "[[1.     0.    ]\n",
            " [0.6667 0.3333]\n",
            " [0.     1.    ]\n",
            " [1.     0.    ]\n",
            " [1.     0.    ]]\n",
            "\n",
            "Probability predictions for (first 5 samples):\n",
            "[[0. 1.]\n",
            " [0. 1.]\n",
            " [1. 0.]\n",
            " [0. 1.]\n",
            " [1. 0.]]\n",
            "\n",
            "Probability predictions for (first 5 samples):\n",
            "[[0.     1.    ]\n",
            " [0.6667 0.3333]\n",
            " [0.3333 0.6667]\n",
            " [1.     0.    ]\n",
            " [1.     0.    ]]\n",
            "\n",
            "Probability predictions for (first 5 samples):\n",
            "[[0.3333 0.6667]\n",
            " [1.     0.    ]\n",
            " [0.3333 0.6667]\n",
            " [0.6667 0.3333]\n",
            " [1.     0.    ]]\n",
            "\n",
            "Probability predictions for (first 5 samples):\n",
            "[[0. 1.]\n",
            " [1. 0.]\n",
            " [1. 0.]\n",
            " [1. 0.]\n",
            " [1. 0.]]\n",
            "\n",
            "Probability predictions for (first 5 samples):\n",
            "[[1.     0.    ]\n",
            " [1.     0.    ]\n",
            " [1.     0.    ]\n",
            " [1.     0.    ]\n",
            " [0.6667 0.3333]]\n",
            "\n",
            "Probability predictions for (first 5 samples):\n",
            "[[1.     0.    ]\n",
            " [0.6667 0.3333]\n",
            " [0.6667 0.3333]\n",
            " [1.     0.    ]\n",
            " [1.     0.    ]]\n",
            "Average training accuracy without distance weighting but with normalization: 0.900466614090431\n",
            "Average test accuracy without distance weighting but with normalization: 0.8309411146161934\n"
          ]
        }
      ],
      "source": [
        "# Train/Predict with normalization\n",
        "url = \"https://axon.cs.byu.edu/data/uci_class/MagicTelescope.arff\"\n",
        "response = requests.get(url)\n",
        "\n",
        "arff_data, meta_data = arff.loadarff(io.StringIO(response.text))\n",
        "df = pd.DataFrame(arff_data)\n",
        "\n",
        "df.columns = [col.strip(\":\") for col in df.columns]\n",
        "df['class'] = df['class'].str.decode('utf-8')\n",
        "\n",
        "scaler = MinMaxScaler()\n",
        "\n",
        "X = df.drop(columns=['class'])\n",
        "X = scaler.fit_transform(X)\n",
        "y = df['class']\n",
        "\n",
        "knn = KNeighborsClassifier(n_neighbors=3, weights='uniform')\n",
        "\n",
        "num_of_runs = 10\n",
        "results = []\n",
        "\n",
        "for run in range(num_of_runs):\n",
        "  X_train, X_test, y_train, y_test = train_test_split(X, y, test_size=0.2)\n",
        "\n",
        "  knn.fit(X_train, y_train)\n",
        "\n",
        "  train_acc = knn.score(X_train, y_train)\n",
        "  test_acc = knn.score(X_test, y_test)\n",
        "\n",
        "  results.append([train_acc, test_acc])\n",
        "\n",
        "  y_probabilities = knn.predict_proba(X_test)\n",
        "  print(f\"\\nProbability predictions for (first 5 samples):\")\n",
        "  print(np.round(y_probabilities[:5], 4))\n",
        "\n",
        "\n",
        "all_train_acc = []\n",
        "for result in results:\n",
        "  all_train_acc.append(result[0])\n",
        "\n",
        "all_test_acc = []\n",
        "for result in results:\n",
        "  all_test_acc.append(result[1])\n",
        "\n",
        "avg_train_acc = sum(all_train_acc) / len(all_train_acc)\n",
        "avg_test_acc = sum(all_test_acc) / len(all_test_acc)\n",
        "\n",
        "print(f'Average training accuracy without distance weighting but with normalization: {avg_train_acc}')\n",
        "print(f'Average test accuracy without distance weighting but with normalization: {avg_test_acc}')\n"
      ]
    },
    {
      "cell_type": "markdown",
      "metadata": {
        "id": "PC_f8lzE2YrX"
      },
      "source": [
        "#### Discussion\n",
        "Discuss the results of using normalized data vs. unnormalized data"
      ]
    },
    {
      "cell_type": "markdown",
      "metadata": {
        "id": "GwL0dy722YrX"
      },
      "source": [
        "With `k=3`, no distance weighting, but having normalization (which we should usually always do), the training accruacy was better than before, having 90% training accuracy and 83% test accuracy."
      ]
    },
    {
      "cell_type": "markdown",
      "metadata": {
        "id": "YKaetnIs2YrY"
      },
      "source": [
        "### 2.3 (10%) With Distance Weighting\n",
        "- Try it with k=3 and with distance weighting *and* normalization"
      ]
    },
    {
      "cell_type": "code",
      "execution_count": null,
      "metadata": {
        "colab": {
          "base_uri": "https://localhost:8080/"
        },
        "id": "pDLFlHGc2YrY",
        "outputId": "32e3c914-59ed-44f5-d1dd-758444c0bbc7"
      },
      "outputs": [
        {
          "output_type": "stream",
          "name": "stdout",
          "text": [
            "\n",
            "Probability predictions for (first 5 samples):\n",
            "[[1.    0.   ]\n",
            " [1.    0.   ]\n",
            " [0.352 0.648]\n",
            " [1.    0.   ]\n",
            " [1.    0.   ]]\n",
            "\n",
            "Probability predictions for (first 5 samples):\n",
            "[[0. 1.]\n",
            " [1. 0.]\n",
            " [1. 0.]\n",
            " [1. 0.]\n",
            " [1. 0.]]\n",
            "\n",
            "Probability predictions for (first 5 samples):\n",
            "[[1. 0.]\n",
            " [1. 0.]\n",
            " [0. 1.]\n",
            " [1. 0.]\n",
            " [0. 1.]]\n",
            "\n",
            "Probability predictions for (first 5 samples):\n",
            "[[0.3339 0.6661]\n",
            " [0.6679 0.3321]\n",
            " [1.     0.    ]\n",
            " [1.     0.    ]\n",
            " [0.     1.    ]]\n",
            "\n",
            "Probability predictions for (first 5 samples):\n",
            "[[1. 0.]\n",
            " [1. 0.]\n",
            " [1. 0.]\n",
            " [0. 1.]\n",
            " [1. 0.]]\n",
            "\n",
            "Probability predictions for (first 5 samples):\n",
            "[[1.     0.    ]\n",
            " [0.3474 0.6526]\n",
            " [0.6746 0.3254]\n",
            " [0.712  0.288 ]\n",
            " [0.2966 0.7034]]\n",
            "\n",
            "Probability predictions for (first 5 samples):\n",
            "[[1.     0.    ]\n",
            " [0.6865 0.3135]\n",
            " [1.     0.    ]\n",
            " [0.6636 0.3364]\n",
            " [1.     0.    ]]\n",
            "\n",
            "Probability predictions for (first 5 samples):\n",
            "[[1.    0.   ]\n",
            " [1.    0.   ]\n",
            " [0.627 0.373]\n",
            " [1.    0.   ]\n",
            " [1.    0.   ]]\n",
            "\n",
            "Probability predictions for (first 5 samples):\n",
            "[[0.7303 0.2697]\n",
            " [0.6593 0.3407]\n",
            " [1.     0.    ]\n",
            " [1.     0.    ]\n",
            " [1.     0.    ]]\n",
            "\n",
            "Probability predictions for (first 5 samples):\n",
            "[[1.     0.    ]\n",
            " [0.6474 0.3526]\n",
            " [0.3304 0.6696]\n",
            " [0.6356 0.3644]\n",
            " [1.     0.    ]]\n",
            "Average training accuracy with distance weighting and normalization: 1.0\n",
            "Average test accuracy with distance weighting and normalization: 0.8315194532071504\n"
          ]
        }
      ],
      "source": [
        "# Train/Precdict with normalization and distance weighting\n",
        "response = requests.get('https://axon.cs.byu.edu/data/uci_class/MagicTelescope.arff')\n",
        "\n",
        "arff_data, meta_data = arff.loadarff(io.StringIO(response.text))\n",
        "df = pd.DataFrame(arff_data)\n",
        "\n",
        "df.columns = [col.strip(\":\") for col in df.columns]\n",
        "df['class'] = df['class'].str.decode('utf-8')\n",
        "\n",
        "scaler = MinMaxScaler()\n",
        "\n",
        "X = df.drop(columns=['class'])\n",
        "X = scaler.fit_transform(X)\n",
        "y = df['class']\n",
        "\n",
        "knn = KNeighborsClassifier(n_neighbors=3, weights='distance')\n",
        "\n",
        "num_of_runs = 10\n",
        "results = []\n",
        "\n",
        "for run in range(num_of_runs):\n",
        "  X_train, X_test, y_train, y_test = train_test_split(X, y, test_size=0.2)\n",
        "\n",
        "  knn.fit(X_train, y_train)\n",
        "\n",
        "  train_acc = knn.score(X_train, y_train)\n",
        "  test_acc = knn.score(X_test, y_test)\n",
        "\n",
        "  results.append([train_acc, test_acc])\n",
        "\n",
        "  y_probabilities = knn.predict_proba(X_test)\n",
        "  print(f\"\\nProbability predictions for (first 5 samples):\")\n",
        "  print(np.round(y_probabilities[:5], 4))\n",
        "\n",
        "\n",
        "all_train_acc = []\n",
        "for result in results:\n",
        "  all_train_acc.append(result[0])\n",
        "\n",
        "all_test_acc = []\n",
        "for result in results:\n",
        "  all_test_acc.append(result[1])\n",
        "\n",
        "avg_train_acc = sum(all_train_acc) / len(all_train_acc)\n",
        "avg_test_acc = sum(all_test_acc) / len(all_test_acc)\n",
        "\n",
        "print(f'Average training accuracy with distance weighting and normalization: {avg_train_acc}')\n",
        "print(f'Average test accuracy with distance weighting and normalization: {avg_test_acc}')\n"
      ]
    },
    {
      "cell_type": "markdown",
      "metadata": {
        "id": "NlVcggVC2YrY"
      },
      "source": [
        "#### Discussion\n",
        "Comparison and discuss the differences you see with distance weighting and normalization vs without."
      ]
    },
    {
      "cell_type": "markdown",
      "metadata": {
        "id": "-mILS9tc2YrY"
      },
      "source": [
        "With `k=3`, distance weighting, but having normalization (which we should usually always do), the training accruacy was 100% training accuracy and 83% test accuracy. This shows that we have overfit. This caused me to look at the documentation about distance tranining, it says that when we use distance weighting, \"closer neighbors of a query point will have a greater influence than neighbors which are further away.\" This make sense why we would overfit if we have a pretty small `k` value."
      ]
    },
    {
      "cell_type": "markdown",
      "metadata": {
        "id": "erodf3hZ2YrY"
      },
      "source": [
        "### 2.4 (10%) Different k Values\n",
        "- Using your normalized data with distance weighting, create one graph with classification accuracy on the test set on the y-axis and k values on the x-axis.\n",
        "- Use values of k from 1 to 15.  Use the same train/test split for each."
      ]
    },
    {
      "cell_type": "code",
      "execution_count": null,
      "metadata": {
        "colab": {
          "base_uri": "https://localhost:8080/",
          "height": 1000
        },
        "id": "E2xbDjgO2YrY",
        "outputId": "52b7f898-831e-4348-9a00-f1c53e3dfa6b"
      },
      "outputs": [
        {
          "output_type": "stream",
          "name": "stdout",
          "text": [
            "\n",
            "Probability predictions for (first 5 samples):\n",
            "[[1. 0.]\n",
            " [1. 0.]\n",
            " [1. 0.]\n",
            " [1. 0.]\n",
            " [0. 1.]]\n",
            "\n",
            "Probability predictions for (first 5 samples):\n",
            "[[1. 0.]\n",
            " [1. 0.]\n",
            " [1. 0.]\n",
            " [1. 0.]\n",
            " [0. 1.]]\n",
            "\n",
            "Probability predictions for (first 5 samples):\n",
            "[[1. 0.]\n",
            " [1. 0.]\n",
            " [1. 0.]\n",
            " [1. 0.]\n",
            " [0. 1.]]\n",
            "\n",
            "Probability predictions for (first 5 samples):\n",
            "[[0.7717 0.2283]\n",
            " [1.     0.    ]\n",
            " [1.     0.    ]\n",
            " [1.     0.    ]\n",
            " [0.238  0.762 ]]\n",
            "\n",
            "Probability predictions for (first 5 samples):\n",
            "[[0.6338 0.3662]\n",
            " [1.     0.    ]\n",
            " [0.8222 0.1778]\n",
            " [1.     0.    ]\n",
            " [0.1924 0.8076]]\n",
            "\n",
            "Probability predictions for (first 5 samples):\n",
            "[[0.6881 0.3119]\n",
            " [1.     0.    ]\n",
            " [0.8487 0.1513]\n",
            " [1.     0.    ]\n",
            " [0.1614 0.8386]]\n",
            "\n",
            "Probability predictions for (first 5 samples):\n",
            "[[0.6035 0.3965]\n",
            " [1.     0.    ]\n",
            " [0.8677 0.1323]\n",
            " [1.     0.    ]\n",
            " [0.1394 0.8606]]\n",
            "\n",
            "Probability predictions for (first 5 samples):\n",
            "[[0.5375 0.4625]\n",
            " [1.     0.    ]\n",
            " [0.8823 0.1177]\n",
            " [1.     0.    ]\n",
            " [0.1227 0.8773]]\n",
            "\n",
            "Probability predictions for (first 5 samples):\n",
            "[[0.581  0.419 ]\n",
            " [1.     0.    ]\n",
            " [0.8939 0.1061]\n",
            " [1.     0.    ]\n",
            " [0.2137 0.7863]]\n",
            "\n",
            "Probability predictions for (first 5 samples):\n",
            "[[0.6166 0.3834]\n",
            " [1.     0.    ]\n",
            " [0.9034 0.0966]\n",
            " [1.     0.    ]\n",
            " [0.1938 0.8062]]\n",
            "\n",
            "Probability predictions for (first 5 samples):\n",
            "[[0.5689 0.4311]\n",
            " [1.     0.    ]\n",
            " [0.9113 0.0887]\n",
            " [1.     0.    ]\n",
            " [0.2621 0.7379]]\n",
            "\n",
            "Probability predictions for (first 5 samples):\n",
            "[[0.5996 0.4004]\n",
            " [1.     0.    ]\n",
            " [0.918  0.082 ]\n",
            " [1.     0.    ]\n",
            " [0.3193 0.6807]]\n",
            "\n",
            "Probability predictions for (first 5 samples):\n",
            "[[0.6263 0.3737]\n",
            " [1.     0.    ]\n",
            " [0.8557 0.1443]\n",
            " [1.     0.    ]\n",
            " [0.2964 0.7036]]\n",
            "\n",
            "Probability predictions for (first 5 samples):\n",
            "[[0.648  0.352 ]\n",
            " [1.     0.    ]\n",
            " [0.8649 0.1351]\n",
            " [1.     0.    ]\n",
            " [0.3433 0.6567]]\n",
            "\n",
            "Probability predictions for (first 5 samples):\n",
            "[[0.6126 0.3874]\n",
            " [1.     0.    ]\n",
            " [0.8139 0.1861]\n",
            " [1.     0.    ]\n",
            " [0.3218 0.6782]]\n",
            "Average training accuracy of k=15: 1.0\n",
            "Average test accuracy of k=15: 0.8353487556957588\n",
            "\n",
            "\n"
          ]
        },
        {
          "output_type": "display_data",
          "data": {
            "text/plain": [
              "<Figure size 640x480 with 1 Axes>"
            ],
            "image/png": "[encoded data removed]"
          },
          "metadata": {}
        }
      ],
      "source": [
        "# Calculate and Graph classification accuracy vs k values\n",
        "response = requests.get('https://axon.cs.byu.edu/data/uci_class/MagicTelescope.arff')\n",
        "\n",
        "arff_data, meta_data = arff.loadarff(io.StringIO(response.text))\n",
        "df = pd.DataFrame(arff_data)\n",
        "\n",
        "df.columns = [col.strip(\":\") for col in df.columns]\n",
        "df['class'] = df['class'].str.decode('utf-8')\n",
        "\n",
        "scaler = MinMaxScaler()\n",
        "\n",
        "X = df.drop(columns=['class'])\n",
        "X = scaler.fit_transform(X)\n",
        "y = df['class']\n",
        "\n",
        "k_values = list(range(1,16))\n",
        "X_train, X_test, y_train, y_test = train_test_split(X, y, test_size=0.2)\n",
        "results= []\n",
        "\n",
        "for k in k_values:\n",
        "  knn = KNeighborsClassifier(n_neighbors=k, weights='distance')\n",
        "\n",
        "  knn.fit(X_train, y_train)\n",
        "\n",
        "  train_acc = knn.score(X_train, y_train)\n",
        "  test_acc = knn.score(X_test, y_test)\n",
        "\n",
        "  results.append([train_acc, test_acc])\n",
        "\n",
        "  y_probabilities = knn.predict_proba(X_test)\n",
        "  print(f\"\\nProbability predictions for (first 5 samples):\")\n",
        "  print(np.round(y_probabilities[:5], 4))\n",
        "\n",
        "all_train_acc = []\n",
        "for result in results:\n",
        "  all_train_acc.append(result[0])\n",
        "\n",
        "all_test_acc = []\n",
        "for result in results:\n",
        "  all_test_acc.append(result[1])\n",
        "\n",
        "avg_train_acc = sum(all_train_acc) / len(all_train_acc)\n",
        "avg_test_acc = sum(all_test_acc) / len(all_test_acc)\n",
        "\n",
        "print(f'Average training accuracy of k={k}: {avg_train_acc}')\n",
        "print(f'Average test accuracy of k={k}: {avg_test_acc}')\n",
        "print('\\n')\n",
        "\n",
        "plt.title(\"Classification Accuracy vs. K Values\")\n",
        "plt.xlabel(\"K Values\")\n",
        "plt.ylabel(\"Classification Accuracy\")\n",
        "plt.plot(k_values, all_test_acc)\n",
        "plt.show()"
      ]
    },
    {
      "cell_type": "markdown",
      "metadata": {
        "id": "4wRQbBrS2YrY"
      },
      "source": [
        "#### Discussion\n",
        "How do the k values affect your results?"
      ]
    },
    {
      "cell_type": "markdown",
      "metadata": {
        "id": "0G5kB3ti2YrY"
      },
      "source": [
        "Starting off with low values of `k` was our lowest testing accuracies. We peaked in test accuracy when `k=6` with about 85% accuracy."
      ]
    },
    {
      "cell_type": "markdown",
      "metadata": {
        "id": "SIRG42TgSR4x"
      },
      "source": [
        "## 3 KNN Regression with normalization and distance weighting\n",
        "\n",
        "Use the [sklean KNeighborsRegressor](https://scikit-learn.org/stable/modules/generated/sklearn.neighbors.KNeighborsRegressor.html#sklearn.neighbors.KNeighborsRegressor) on the [housing price prediction](https://axon.cs.byu.edu/data/uci_regression/housing.arff) problem.  \n",
        "### 3.1 (5%) Ethical Data\n",
        "Note this data set has an example of an inappropriate input feature which we discussed.  State which feature is inappropriate and discuss why."
      ]
    },
    {
      "cell_type": "markdown",
      "metadata": {
        "id": "rMTdUTEA2YrY"
      },
      "source": [
        "#### Discussion\n",
        "Discuss the innapropriate feature. Which one and why?"
      ]
    },
    {
      "cell_type": "markdown",
      "metadata": {
        "id": "cGol0VIt2YrY"
      },
      "source": [
        "The inappropriate input feature is `b` -- 1000(Bk - 0.63)^2 where Bk is the proportion of blacks by town. The reason why we don't want this feature in there is because it can, if there is some type of correlation, make our model have racist tendencies and people would think that we may be racist as well. Let's take that out in the next code cell..."
      ]
    },
    {
      "cell_type": "markdown",
      "metadata": {
        "id": "FmlVni3m2YrY"
      },
      "source": [
        "### 3.2 (15%) - KNN Regression\n",
        "- Do random 80/20 train/test splits each time\n",
        "- Run with k=3\n",
        "- Print the score (coefficient of determination) and Mean Absolute Error (MAE) for the train and test set for the cases of\n",
        "  - No input normalization and no distance weighting\n",
        "  - Normalization and no distance weighting\n",
        "  - Normalization and distance weighting\n",
        "- Normalize inputs features where needed but do not normalize the output"
      ]
    },
    {
      "cell_type": "code",
      "source": [
        "# Learn and experiment with housing price prediction data\n",
        "response = requests.get('https://axon.cs.byu.edu/data/uci_regression/housing.arff')\n",
        "\n",
        "arff_data, meta_data = arff.loadarff(io.StringIO(response.text))\n",
        "df = pd.DataFrame(arff_data)\n",
        "df = df.drop(\"B\", axis=1)\n",
        "\n",
        "scaler = MinMaxScaler()\n",
        "\n",
        "X = df.drop('MEDV', axis=1)\n",
        "X_scaled = scaler.fit_transform(X)\n",
        "y = df['MEDV']\n",
        "\n",
        "runs = {\n",
        "    1: [X, 'uniform'],\n",
        "    2: [X_scaled, \"uniform\"],\n",
        "    3: [X_scaled, \"distance\"]\n",
        "}\n",
        "\n",
        "for run, (X_variant, weight_type) in runs.items():\n",
        "  print(f'run: {run} weight type: {weight_type}')\n",
        "  X_train, X_test, y_train, y_test = train_test_split(X_variant, y, test_size=0.2)\n",
        "  knnr = KNeighborsRegressor(n_neighbors=3, weights=weight_type)\n",
        "\n",
        "  knnr.fit(X_train, y_train)\n",
        "\n",
        "  train_acc = knnr.score(X_train, y_train)\n",
        "  test_acc = knnr.score(X_test, y_test)\n",
        "\n",
        "  train_mae = mean_absolute_error(y_train, knnr.predict(X_train))\n",
        "  test_mae = mean_absolute_error(y_test, knnr.predict(X_test))\n",
        "\n",
        "  print(f'Training accuracy: {train_acc}')\n",
        "  print(f'Test accuracy: {test_acc}')\n",
        "  print(f'Train MAE: {train_mae}')\n",
        "  print(f'Test MAE: {test_mae}')\n",
        "  print('\\n')"
      ],
      "metadata": {
        "colab": {
          "base_uri": "https://localhost:8080/"
        },
        "id": "8NX9usctxq0S",
        "outputId": "ea1f513c-b698-4ac7-b0ef-9da494b25ec6"
      },
      "execution_count": null,
      "outputs": [
        {
          "output_type": "stream",
          "name": "stdout",
          "text": [
            "run: 1 weight type: uniform\n",
            "Training accuracy: 0.8185679369856832\n",
            "Test accuracy: 0.6257560430284157\n",
            "Train MAE: 2.523267326732673\n",
            "Test MAE: 4.330392156862745\n",
            "\n",
            "\n",
            "run: 2 weight type: uniform\n",
            "Training accuracy: 0.8748949608154964\n",
            "Test accuracy: 0.8020813056913211\n",
            "Train MAE: 2.049009900990099\n",
            "Test MAE: 3.0656862745098032\n",
            "\n",
            "\n",
            "run: 3 weight type: distance\n",
            "Training accuracy: 1.0\n",
            "Test accuracy: 0.8031936540384034\n",
            "Train MAE: 0.0\n",
            "Test MAE: 2.879683395530711\n",
            "\n",
            "\n"
          ]
        }
      ]
    },
    {
      "cell_type": "markdown",
      "metadata": {
        "id": "kx1MJ4252YrZ"
      },
      "source": [
        "#### Discussion\n",
        "Discuss your results. How did the hyperparameters affect your results? Discuss each one and combinations of each."
      ]
    },
    {
      "cell_type": "markdown",
      "metadata": {
        "id": "8QeLPyh_2YrZ"
      },
      "source": [
        "run 1 (No distance, no normalization): Had the worst training and test accuracy and the highest MAE, with a training MAE of 2.5 and test MAE of 4.33.\n",
        "\n",
        "run 2 (No distance, normalization): Had better training and test accuracy. MAE from training was 2 and test MAE was 3.\n",
        "\n",
        "run 3 (distance, normalization): Had the best accuracies and lowest MAE. MAE was the best for train at 0.0 and test was 2.9, which was the best also for test."
      ]
    },
    {
      "cell_type": "markdown",
      "metadata": {
        "id": "lu57j5Qx2YrZ"
      },
      "source": [
        "### 3.3 (10%)  Different k Values\n",
        "- Using housing with normalized data and distance weighting, create one graph with MAE on the test set on the y-axis and k values on the x-axis\n",
        "- Use values of k from 1 to 15.  Use the same train/test split for each."
      ]
    },
    {
      "cell_type": "code",
      "execution_count": null,
      "metadata": {
        "id": "67UCRGUb2YrZ",
        "colab": {
          "base_uri": "https://localhost:8080/",
          "height": 546
        },
        "outputId": "ab5788e0-d51e-425b-ec44-332a3fe40722"
      },
      "outputs": [
        {
          "output_type": "stream",
          "name": "stdout",
          "text": [
            "Average training accuracy: 1.0\n",
            "Average test accuracy: 0.7490803364182369\n",
            "[3.4862745098039216, 2.923561776861738, 2.875408566530049, 2.9045999997135343, 2.7746389522948047, 2.707848783983894, 2.8169818453708673, 2.8107348806733254, 2.8714809668185057, 2.867392806341853, 2.8857044184499725, 2.8844018129042928, 2.922816007703474, 2.90824420576262, 2.95196958746192]\n"
          ]
        },
        {
          "output_type": "display_data",
          "data": {
            "text/plain": [
              "<Figure size 640x480 with 1 Axes>"
            ],
            "image/png": "[encoded data removed]"
          },
          "metadata": {}
        }
      ],
      "source": [
        "# Learn and graph for different k values\n",
        "response = requests.get('https://axon.cs.byu.edu/data/uci_regression/housing.arff')\n",
        "arff_data, meta_data = arff.loadarff(io.StringIO(response.text))\n",
        "\n",
        "df = pd.DataFrame(arff_data)\n",
        "df = df.drop(\"B\", axis=1)\n",
        "\n",
        "scaler = MinMaxScaler()\n",
        "\n",
        "X = df.drop('MEDV', axis=1)\n",
        "X = scaler.fit_transform(X)\n",
        "y = df['MEDV']\n",
        "\n",
        "k_values = list(range(1,16))\n",
        "results = []\n",
        "\n",
        "for k in k_values:\n",
        "\n",
        "  X_train, X_test, y_train, y_test = train_test_split(X, y, test_size=0.2, random_state=42)\n",
        "  knnr = KNeighborsRegressor(n_neighbors=k, weights='distance')\n",
        "\n",
        "  knnr.fit(X_train, y_train)\n",
        "\n",
        "  train_acc = knnr.score(X_train, y_train)\n",
        "  test_acc = knnr.score(X_test, y_test)\n",
        "  test_mae = mean_absolute_error(y_test, knnr.predict(X_test))\n",
        "\n",
        "  results.append([train_acc, test_acc, test_mae])\n",
        "\n",
        "avg_train_acc = sum(result[0] for result in results) / len(results)\n",
        "avg_test_acc = sum(result[1] for result in results) / len(results)\n",
        "avg_mae = sum(result[2] for result in results) / len(results)\n",
        "\n",
        "\n",
        "print(f'Average training accuracy: {avg_train_acc}')\n",
        "print(f'Average test accuracy: {avg_test_acc}')\n",
        "\n",
        "\n",
        "all_MAE_scores = []\n",
        "for result in results:\n",
        "  all_MAE_scores.append(result[2])\n",
        "\n",
        "print(all_MAE_scores)\n",
        "\n",
        "plt.title(\"MAE Test Scores vs. K Values\")\n",
        "plt.xlabel(\"K Values\")\n",
        "plt.ylabel(\"MAE Test Scores\")\n",
        "plt.plot(k_values, all_MAE_scores)\n",
        "plt.show()"
      ]
    },
    {
      "cell_type": "markdown",
      "metadata": {
        "id": "rUelaclE2YrZ"
      },
      "source": [
        "#### Discussion\n",
        "How did the k values affect your results for this dataset? How does that compare to your previous work in this lab?"
      ]
    },
    {
      "cell_type": "markdown",
      "metadata": {
        "id": "9Da8o8GE2YrZ"
      },
      "source": [
        "With `k=5`, we achieved the lowest k MAE for our test scores. When our k values were below `k=5`, we had the highest MAE, and from `k=6` and beyond, we would gradually increase the MAE test scores. This is consistent with the other parts of the lab (Magic telescope) with having not a super low k value or high k value in which we would get good accuracy and lower MAE."
      ]
    },
    {
      "cell_type": "markdown",
      "metadata": {
        "id": "AYUFgzwA2YrZ"
      },
      "source": [
        "## 4. (20%) KNN with nominal and real data\n",
        "\n",
        "- Use the [lymph dataset](https://axon.cs.byu.edu/data/uci_class/lymph.arff)\n",
        "- Use a 80/20 split of the data for the training/test set\n",
        "- This dataset has both continuous and nominal attributes\n",
        "- Implement a distance metric which uses Euclidean distance for continuous features and 0/1 distance for nominal. Hints:\n",
        "    - Write your own distance function (e.g. mydist) and use clf = KNeighborsClassifier(metric=mydist)\n",
        "    - Change the nominal features in the data set to integer values since KNeighborsClassifier expects numeric features. I used Label_Encoder on the nominal features.\n",
        "    - Keep a list of which features are nominal which mydist can use to decide which distance measure to use\n",
        "    - There was an occasional bug in SK version 1.3.0 (\"Flags object has no attribute 'c_contiguous'\") that went away when I upgraded to the lastest SK version 1.3.1\n",
        "- Use your own choice for k and other parameters"
      ]
    },
    {
      "cell_type": "code",
      "execution_count": null,
      "metadata": {
        "id": "_PdfEkAP2YrZ",
        "colab": {
          "base_uri": "https://localhost:8080/"
        },
        "outputId": "25be7c2a-7735-4dfb-e71f-91a7038e4443"
      },
      "outputs": [
        {
          "output_type": "stream",
          "name": "stdout",
          "text": [
            "Traning Accuracy: 0.8559322033898306\n",
            "Test Accuracy: 0.8333333333333334\n"
          ]
        }
      ],
      "source": [
        "# Train/Predict lymph with your own distance metric\n",
        "response = requests.get('https://axon.cs.byu.edu/data/uci_class/lymph.arff')\n",
        "arff_data, meta_data = arff.loadarff(io.StringIO(response.text))\n",
        "\n",
        "df = pd.DataFrame(arff_data)\n",
        "label_encoder = LabelEncoder()\n",
        "\n",
        "df[df.select_dtypes(include=['object']).columns] = df.select_dtypes(include=['object']).astype(str)\n",
        "\n",
        "X = df.drop(columns=\"class\", axis=1)\n",
        "y = df['class']\n",
        "\n",
        "categorical_indices = []\n",
        "integer_indicies = []\n",
        "\n",
        "for i, col in enumerate(X.columns):\n",
        "  if (X[col].dtype == 'object'):\n",
        "    categorical_indices.append(i)\n",
        "    X[col] = label_encoder.fit_transform(X[col])\n",
        "  else:\n",
        "    integer_indicies.append(i)\n",
        "\n",
        "\n",
        "label_encoder_y = LabelEncoder()\n",
        "y = label_encoder_y.fit_transform(y)\n",
        "\n",
        "def myDist(x, y):\n",
        "  if len(categorical_indices) == 0:\n",
        "      return np.sum(np.abs(x - y)) # Manhattan\n",
        "  else:\n",
        "      return np.sum(x != y) # hamming\n",
        "\n",
        "\n",
        "X_train, X_test, y_train, y_test = train_test_split(X, y, test_size=0.2)\n",
        "clf = KNeighborsClassifier(n_neighbors=5, metric=myDist)\n",
        "\n",
        "clf.fit(X_train, y_train)\n",
        "\n",
        "train_acc = clf.score(X_train, y_train)\n",
        "test_acc = clf.score(X_test, y_test)\n",
        "\n",
        "print(f'Traning Accuracy: {train_acc}')\n",
        "print(f'Test Accuracy: {test_acc}')"
      ]
    },
    {
      "cell_type": "markdown",
      "metadata": {
        "id": "sTKXENkG2YrZ"
      },
      "source": [
        "#### Discussion\n",
        "Explain your distance metric and discuss your results"
      ]
    },
    {
      "cell_type": "markdown",
      "metadata": {
        "id": "6BmPaiOe2YrZ"
      },
      "source": [
        "I used `LabelEncoder` for the nominal features.\n",
        "\n",
        "For my `myDist` function I created an if/else branched distance function where if the data was numerical (rather than categorical) then I would calculate the Manhattan distance, otherwise I would run the Hamming distance. Hamming distance the minimum distance between any two points. I was able to get 86% train accuracy and 83% test accuracy."
      ]
    },
    {
      "cell_type": "markdown",
      "metadata": {
        "id": "EK74ujs42Yra"
      },
      "source": [
        "## 5. (Optional 15% extra credit) Code up your own KNN Learner\n",
        "Below is a scaffold you could use if you want. Requirements for this task:\n",
        "- Your model should support the methods shown in the example scaffold below\n",
        "- Use Euclidean distance to decide closest neighbors\n",
        "- Implement both the classification and regression versions\n",
        "- Include optional distance weighting for both algorithms\n",
        "- Run your algorithm on the magic telescope and housing data sets above and discuss and compare your results"
      ]
    },
    {
      "cell_type": "markdown",
      "metadata": {
        "id": "EufM5lRZ2Yra"
      },
      "source": [
        "*Discussion*"
      ]
    },
    {
      "cell_type": "code",
      "execution_count": null,
      "metadata": {
        "id": "8tsRqBvZ2Yrg"
      },
      "outputs": [],
      "source": [
        "from sklearn.base import BaseEstimator, ClassifierMixin\n",
        "\n",
        "class KNNClassifier(BaseEstimator,ClassifierMixin):\n",
        "    def __init__(self, columntype=[], weight_type='inverse_distance'): ## add parameters here\n",
        "        \"\"\"\n",
        "        Args:\n",
        "            columntype for each column tells you if continues[real] or if nominal[categoritcal].\n",
        "            weight_type: inverse_distance voting or if non distance weighting. Options = [\"no_weight\",\"inverse_distance\"]\n",
        "        \"\"\"\n",
        "        self.columntype = columntype #Note This won't be needed until part 5\n",
        "        self.weight_type = weight_type\n",
        "\n",
        "    def fit(self, data, labels):\n",
        "        \"\"\" Fit the data; run the algorithm (for this lab really just saves the data :D)\n",
        "        Args:\n",
        "            X (array-like): A 2D numpy array with the training data, excluding targets\n",
        "            y (array-like): A 2D numpy array with the training targets\n",
        "        Returns:\n",
        "            self: this allows this to be chained, e.g. model.fit(X,y).predict(X_test)\n",
        "        \"\"\"\n",
        "        return self\n",
        "\n",
        "    def predict(self, data):\n",
        "        \"\"\" Predict all classes for a dataset X\n",
        "        Args:\n",
        "            X (array-like): A 2D numpy array with the training data, excluding targets\n",
        "        Returns:\n",
        "            array, shape (n_samples,)\n",
        "                Predicted target values per element in X.\n",
        "        \"\"\"\n",
        "        pass\n",
        "\n",
        "    #Returns the Mean score given input data and labels\n",
        "    def score(self, X, y):\n",
        "        \"\"\" Return accuracy of model on a given dataset. Must implement own score function.\n",
        "        Args:\n",
        "            X (array-like): A 2D numpy array with data, excluding targets\n",
        "            y (array-like): A 2D numpy array with targets\n",
        "        Returns:\n",
        "            score : float\n",
        "                Mean accuracy of self.predict(X) wrt. y.\n",
        "        \"\"\"\n",
        "        return 0"
      ]
    }
  ],
  "metadata": {
    "colab": {
      "provenance": []
    },
    "kernelspec": {
      "display_name": "Python 3.10.7 64-bit",
      "language": "python",
      "name": "python3"
    },
    "language_info": {
      "codemirror_mode": {
        "name": "ipython",
        "version": 3
      },
      "file_extension": ".py",
      "mimetype": "text/x-python",
      "name": "python",
      "nbconvert_exporter": "python",
      "pygments_lexer": "ipython3",
      "version": "3.10.7"
    },
    "vscode": {
      "interpreter": {
        "hash": "aee8b7b246df8f9039afb4144a1f6fd8d2ca17a180786b69acc140d282b71a49"
      }
    }
  },
  "nbformat": 4,
  "nbformat_minor": 0
}